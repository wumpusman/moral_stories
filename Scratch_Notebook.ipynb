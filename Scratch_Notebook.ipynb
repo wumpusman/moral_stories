{
 "cells": [
  {
   "cell_type": "code",
   "execution_count": 1,
   "id": "facial-stationery",
   "metadata": {},
   "outputs": [],
   "source": [
    "from transformers import (RobertaConfig,\n",
    "                          RobertaForSequenceClassification,\n",
    "                          RobertaTokenizer,\n",
    "                          AdamW,\n",
    "                          get_linear_schedule_with_warmup)\n",
    "import torch\n",
    "import pytorch_lightning as pl\n",
    "from torch.optim import lr_scheduler\n",
    "from torch import nn\n",
    "import numpy as np"
   ]
  },
  {
   "cell_type": "code",
   "execution_count": 2,
   "id": "light-protest",
   "metadata": {},
   "outputs": [
    {
     "name": "stderr",
     "output_type": "stream",
     "text": [
      "Some weights of the model checkpoint at roberta-base were not used when initializing RobertaForSequenceClassification: ['lm_head.bias', 'lm_head.dense.weight', 'lm_head.dense.bias', 'lm_head.layer_norm.weight', 'lm_head.layer_norm.bias', 'lm_head.decoder.weight']\n",
      "- This IS expected if you are initializing RobertaForSequenceClassification from the checkpoint of a model trained on another task or with another architecture (e.g. initializing a BertForSequenceClassification model from a BertForPretraining model).\n",
      "- This IS NOT expected if you are initializing RobertaForSequenceClassification from the checkpoint of a model that you expect to be exactly identical (initializing a BertForSequenceClassification model from a BertForSequenceClassification model).\n",
      "Some weights of RobertaForSequenceClassification were not initialized from the model checkpoint at roberta-base and are newly initialized: ['classifier.dense.weight', 'classifier.dense.bias', 'classifier.out_proj.weight', 'classifier.out_proj.bias']\n",
      "You should probably TRAIN this model on a down-stream task to be able to use it for predictions and inference.\n"
     ]
    }
   ],
   "source": [
    "roberta = RobertaForSequenceClassification.from_pretrained('roberta-base')"
   ]
  },
  {
   "cell_type": "code",
   "execution_count": 3,
   "id": "toxic-attraction",
   "metadata": {},
   "outputs": [],
   "source": [
    "from Refactored_Baseline import Toy"
   ]
  },
  {
   "cell_type": "code",
   "execution_count": 4,
   "id": "objective-knowing",
   "metadata": {},
   "outputs": [],
   "source": [
    "model = Toy(roberta, lr = .01)"
   ]
  },
  {
   "cell_type": "code",
   "execution_count": 8,
   "id": "velvet-prophet",
   "metadata": {},
   "outputs": [
    {
     "name": "stdout",
     "output_type": "stream",
     "text": [
      "train\n",
      "OK\n"
     ]
    }
   ],
   "source": [
    "from test_load_data import *\n",
    "\n",
    "#moral_processor = utils.MoralStoriesProcessor()\n",
    "print(DatasetType.TRAIN.value)\n",
    "#the_dataset = MoralStoryDataset(\"/Users/garbar/Downloads/moral_stories_datasets/classification/action+context/lexical_bias\",\"train\")\n",
    "#training_data = moral_processor.get_train_examples(\"/Users/garbar/Downloads/moral_stories_datasets/classification/action+context/lexical_bias\")\n",
    "tokenizer = RobertaTokenizer.from_pretrained('roberta-base')\n",
    "path = \"/Users/nissani/Desktop/moral_stories_datasets/classification/action+context/lexical_bias\"\n",
    "datatype = DatasetType.TEST\n",
    "modeltype = ModelNames.ROBERTA\n",
    "tasktype = TaskTypes.ACTION_CONTEXT_CLS\n",
    "the_moral_story = MoralStoryClassifyDataset(path,dataset_type = DatasetType.TEST,tokenizer=tokenizer,model_name=modeltype,tasktype=tasktype)\n",
    "\n",
    "temp = (the_moral_story._process_data(the_moral_story._moral_story_data[0:10]))\n",
    "print(\"OK\")"
   ]
  },
  {
   "cell_type": "code",
   "execution_count": null,
   "id": "sophisticated-cathedral",
   "metadata": {},
   "outputs": [],
   "source": [
    "the_moral_story."
   ]
  }
 ],
 "metadata": {
  "kernelspec": {
   "display_name": "ms_venv2",
   "language": "python",
   "name": "ms_venv2"
  },
  "language_info": {
   "codemirror_mode": {
    "name": "ipython",
    "version": 3
   },
   "file_extension": ".py",
   "mimetype": "text/x-python",
   "name": "python",
   "nbconvert_exporter": "python",
   "pygments_lexer": "ipython3",
   "version": "3.7.3"
  }
 },
 "nbformat": 4,
 "nbformat_minor": 5
}
