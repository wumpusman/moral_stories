{
 "cells": [
  {
   "cell_type": "code",
   "execution_count": 1,
   "id": "aquatic-serum",
   "metadata": {},
   "outputs": [],
   "source": [
    "from transformers import (RobertaConfig,\n",
    "                          RobertaForSequenceClassification,\n",
    "                          RobertaTokenizer,\n",
    "                          AdamW,\n",
    "                          get_linear_schedule_with_warmup)\n",
    "import torch\n",
    "import pytorch_lightning as pl\n",
    "from torch.optim import lr_scheduler\n",
    "from torch import nn\n",
    "import numpy as np"
   ]
  },
  {
   "cell_type": "code",
   "execution_count": 2,
   "id": "joint-package",
   "metadata": {},
   "outputs": [
    {
     "name": "stderr",
     "output_type": "stream",
     "text": [
      "Some weights of the model checkpoint at roberta-base were not used when initializing RobertaForSequenceClassification: ['lm_head.bias', 'lm_head.dense.weight', 'lm_head.dense.bias', 'lm_head.layer_norm.weight', 'lm_head.layer_norm.bias', 'lm_head.decoder.weight']\n",
      "- This IS expected if you are initializing RobertaForSequenceClassification from the checkpoint of a model trained on another task or with another architecture (e.g. initializing a BertForSequenceClassification model from a BertForPretraining model).\n",
      "- This IS NOT expected if you are initializing RobertaForSequenceClassification from the checkpoint of a model that you expect to be exactly identical (initializing a BertForSequenceClassification model from a BertForSequenceClassification model).\n",
      "Some weights of RobertaForSequenceClassification were not initialized from the model checkpoint at roberta-base and are newly initialized: ['classifier.dense.weight', 'classifier.dense.bias', 'classifier.out_proj.weight', 'classifier.out_proj.bias']\n",
      "You should probably TRAIN this model on a down-stream task to be able to use it for predictions and inference.\n"
     ]
    }
   ],
   "source": [
    "roberta = RobertaForSequenceClassification.from_pretrained('roberta-base')"
   ]
  },
  {
   "cell_type": "code",
   "execution_count": 3,
   "id": "higher-therapist",
   "metadata": {},
   "outputs": [],
   "source": [
    "from Refactored_Baseline import Toy"
   ]
  },
  {
   "cell_type": "code",
   "execution_count": 4,
   "id": "inclusive-brighton",
   "metadata": {},
   "outputs": [],
   "source": [
    "model = Toy(roberta, lr = .01)"
   ]
  },
  {
   "cell_type": "code",
   "execution_count": 5,
   "id": "cultural-coordinate",
   "metadata": {},
   "outputs": [
    {
     "name": "stdout",
     "output_type": "stream",
     "text": [
      "train\n",
      "OK\n"
     ]
    }
   ],
   "source": [
    "from test_load_data import *\n",
    "\n",
    "#moral_processor = utils.MoralStoriesProcessor()\n",
    "print(DatasetType.TRAIN.value)\n",
    "#the_dataset = MoralStoryDataset(\"/Users/garbar/Downloads/moral_stories_datasets/classification/action+context/lexical_bias\",\"train\")\n",
    "#training_data = moral_processor.get_train_examples(\"/Users/garbar/Downloads/moral_stories_datasets/classification/action+context/lexical_bias\")\n",
    "tokenizer = RobertaTokenizer.from_pretrained('roberta-base')\n",
    "path = \"/Users/nissani/Desktop/moral_stories_datasets/classification/action+context/lexical_bias\"\n",
    "datatype = DatasetType.TEST\n",
    "modeltype = ModelNames.ROBERTA\n",
    "tasktype = TaskTypes.ACTION_CONTEXT_CLS\n",
    "the_moral_story = MoralStoryClassifyDataset(path,dataset_type = DatasetType.TEST,tokenizer=tokenizer,model_name=modeltype,tasktype=tasktype)\n",
    "\n",
    "temp = (the_moral_story._process_data(the_moral_story._moral_story_data[0:10]))\n",
    "print(\"OK\")"
   ]
  },
  {
   "cell_type": "code",
   "execution_count": 6,
   "id": "amateur-collectible",
   "metadata": {},
   "outputs": [],
   "source": [
    "the_moral_story.process_data(start_index = 0, stop_index = 28)"
   ]
  },
  {
   "cell_type": "code",
   "execution_count": 8,
   "id": "alternate-salon",
   "metadata": {},
   "outputs": [],
   "source": [
    "some_value = next(iter(the_moral_story))"
   ]
  },
  {
   "cell_type": "code",
   "execution_count": 14,
   "id": "practical-ready",
   "metadata": {
    "collapsed": true,
    "jupyter": {
     "outputs_hidden": true
    }
   },
   "outputs": [
    {
     "data": {
      "text/plain": [
       "[3,\n",
       " 243,\n",
       " 18,\n",
       " 1099,\n",
       " 7,\n",
       " 28,\n",
       " 350,\n",
       " 7337,\n",
       " 8,\n",
       " 3874,\n",
       " 82,\n",
       " 62,\n",
       " 4,\n",
       " 34057,\n",
       " 13356,\n",
       " 62,\n",
       " 182,\n",
       " 419,\n",
       " 42,\n",
       " 662,\n",
       " 4,\n",
       " 894,\n",
       " 1072,\n",
       " 7,\n",
       " 146,\n",
       " 103,\n",
       " 7080,\n",
       " 4,\n",
       " 3,\n",
       " 3,\n",
       " 34057,\n",
       " 11034,\n",
       " 817,\n",
       " 1003,\n",
       " 10,\n",
       " 5749,\n",
       " 9,\n",
       " 25629,\n",
       " 13,\n",
       " 7080,\n",
       " 4,\n",
       " 3,\n",
       " 0,\n",
       " 0,\n",
       " 0,\n",
       " 0,\n",
       " 0,\n",
       " 0,\n",
       " 0,\n",
       " 0,\n",
       " 0,\n",
       " 0,\n",
       " 0,\n",
       " 0,\n",
       " 0,\n",
       " 0,\n",
       " 0,\n",
       " 0,\n",
       " 0,\n",
       " 0,\n",
       " 0,\n",
       " 0,\n",
       " 0,\n",
       " 0,\n",
       " 0,\n",
       " 0,\n",
       " 0,\n",
       " 0,\n",
       " 0,\n",
       " 0,\n",
       " 0,\n",
       " 0]"
      ]
     },
     "execution_count": 14,
     "metadata": {},
     "output_type": "execute_result"
    }
   ],
   "source": [
    "some_value.input_ids"
   ]
  },
  {
   "cell_type": "code",
   "execution_count": null,
   "id": "lucky-stadium",
   "metadata": {},
   "outputs": [],
   "source": []
  }
 ],
 "metadata": {
  "kernelspec": {
   "display_name": "ms_venv2",
   "language": "python",
   "name": "ms_venv2"
  },
  "language_info": {
   "codemirror_mode": {
    "name": "ipython",
    "version": 3
   },
   "file_extension": ".py",
   "mimetype": "text/x-python",
   "name": "python",
   "nbconvert_exporter": "python",
   "pygments_lexer": "ipython3",
   "version": "3.7.3"
  }
 },
 "nbformat": 4,
 "nbformat_minor": 5
}
