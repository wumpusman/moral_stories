{
 "cells": [
  {
   "cell_type": "code",
   "execution_count": 1,
   "id": "hydraulic-buffer",
   "metadata": {},
   "outputs": [],
   "source": [
    "from transformers import (RobertaConfig,\n",
    "                          RobertaForSequenceClassification,\n",
    "                          RobertaTokenizer,\n",
    "                          AdamW,\n",
    "                          get_linear_schedule_with_warmup)\n",
    "import torch\n",
    "import pytorch_lightning as pl\n",
    "from torch.optim import lr_scheduler\n",
    "from torch import nn\n",
    "import numpy as np"
   ]
  },
  {
   "cell_type": "code",
   "execution_count": 2,
   "id": "declared-office",
   "metadata": {},
   "outputs": [
    {
     "name": "stderr",
     "output_type": "stream",
     "text": [
      "Some weights of the model checkpoint at roberta-base were not used when initializing RobertaForSequenceClassification: ['lm_head.bias', 'lm_head.dense.weight', 'lm_head.dense.bias', 'lm_head.layer_norm.weight', 'lm_head.layer_norm.bias', 'lm_head.decoder.weight', 'roberta.pooler.dense.weight', 'roberta.pooler.dense.bias']\n",
      "- This IS expected if you are initializing RobertaForSequenceClassification from the checkpoint of a model trained on another task or with another architecture (e.g. initializing a BertForSequenceClassification model from a BertForPreTraining model).\n",
      "- This IS NOT expected if you are initializing RobertaForSequenceClassification from the checkpoint of a model that you expect to be exactly identical (initializing a BertForSequenceClassification model from a BertForSequenceClassification model).\n",
      "Some weights of RobertaForSequenceClassification were not initialized from the model checkpoint at roberta-base and are newly initialized: ['classifier.dense.weight', 'classifier.dense.bias', 'classifier.out_proj.weight', 'classifier.out_proj.bias']\n",
      "You should probably TRAIN this model on a down-stream task to be able to use it for predictions and inference.\n"
     ]
    }
   ],
   "source": [
    "roberta = RobertaForSequenceClassification.from_pretrained('roberta-base')"
   ]
  },
  {
   "cell_type": "code",
   "execution_count": 17,
   "id": "answering-capital",
   "metadata": {},
   "outputs": [
    {
     "data": {
      "text/plain": [
       "<module 'Refactored_Baseline' from '/home/jupyter/moral_stories/Refactored_Baseline.py'>"
      ]
     },
     "execution_count": 17,
     "metadata": {},
     "output_type": "execute_result"
    }
   ],
   "source": [
    "import Refactored_Baseline\n",
    "import importlib\n",
    "importlib.reload(Refactored_Baseline)"
   ]
  },
  {
   "cell_type": "code",
   "execution_count": null,
   "id": "female-tuning",
   "metadata": {},
   "outputs": [],
   "source": [
    "!pip install sacrerouge"
   ]
  },
  {
   "cell_type": "code",
   "execution_count": 45,
   "id": "talented-renaissance",
   "metadata": {},
   "outputs": [],
   "source": [
    "importlib.reload(Refactored_Baseline)\n",
    "model = Refactored_Baseline.Baseline_Model(roberta, lr = .01)"
   ]
  },
  {
   "cell_type": "code",
   "execution_count": 5,
   "id": "amateur-fancy",
   "metadata": {},
   "outputs": [
    {
     "name": "stdout",
     "output_type": "stream",
     "text": [
      "train\n",
      "OK\n"
     ]
    }
   ],
   "source": [
    "from moral_dataset import *\n",
    "\n",
    "#moral_processor = utils.MoralStoriesProcessor()\n",
    "print(DatasetType.TRAIN.value)\n",
    "#the_dataset = MoralStoryDataset(\"/Users/garbar/Downloads/moral_stories_datasets/classification/action+context/lexical_bias\",\"train\")\n",
    "#training_data = moral_processor.get_train_examples(\"/Users/garbar/Downloads/moral_stories_datasets/classification/action+context/lexical_bias\")\n",
    "tokenizer = RobertaTokenizer.from_pretrained('roberta-base')\n",
    "path = \"/home/dataset/moral_stories_datasets/classification/action+context/lexical_bias\"\n",
    "datatype = DatasetType.TEST\n",
    "modeltype = ModelNames.ROBERTA\n",
    "tasktype = TaskTypes.ACTION_CONTEXT_CLS\n",
    "the_moral_story = MoralStoryClassifyDataset(path,dataset_type = DatasetType.TEST,tokenizer=tokenizer,model_name=modeltype,tasktype=tasktype)\n",
    "\n",
    "temp = (the_moral_story._process_data(the_moral_story._moral_story_data[0:10]))\n",
    "print(\"OK\")"
   ]
  },
  {
   "cell_type": "code",
   "execution_count": 6,
   "id": "starting-rebound",
   "metadata": {},
   "outputs": [],
   "source": [
    "the_moral_story.process_data(start_index = 0, stop_index = 28)"
   ]
  },
  {
   "cell_type": "code",
   "execution_count": 7,
   "id": "stable-masters",
   "metadata": {},
   "outputs": [],
   "source": [
    "some_value = next(iter(the_moral_story))"
   ]
  },
  {
   "cell_type": "code",
   "execution_count": 8,
   "id": "arabic-finish",
   "metadata": {},
   "outputs": [
    {
     "data": {
      "text/plain": [
       "72"
      ]
     },
     "execution_count": 8,
     "metadata": {},
     "output_type": "execute_result"
    }
   ],
   "source": [
    "len(some_value['attention_mask'])"
   ]
  },
  {
   "cell_type": "code",
   "execution_count": 9,
   "id": "narrative-column",
   "metadata": {},
   "outputs": [
    {
     "name": "stdout",
     "output_type": "stream",
     "text": [
      "[3, 243, 18, 1099, 7, 28, 350, 7337, 8, 3874, 82, 62, 4, 34057, 13356, 62, 182, 419, 42, 662, 4, 894, 1072, 7, 146, 103, 7080, 4, 3, 3, 34057, 117, 354, 5846, 14225, 29, 10, 319, 9, 26520, 8, 31592, 77, 442, 39, 7080, 4, 3, 0, 0, 0, 0, 0, 0, 0, 0, 0, 0, 0, 0, 0, 0, 0, 0, 0, 0, 0, 0, 0, 0, 0, 0]\n"
     ]
    }
   ],
   "source": [
    "print(the_moral_story._tokenized_data[1].input_ids)"
   ]
  },
  {
   "cell_type": "code",
   "execution_count": 10,
   "id": "written-procedure",
   "metadata": {},
   "outputs": [
    {
     "name": "stdout",
     "output_type": "stream",
     "text": [
      "tensor(3)\n"
     ]
    }
   ],
   "source": [
    "print(some_value['input_ids'][0])"
   ]
  },
  {
   "cell_type": "code",
   "execution_count": 7,
   "id": "decimal-discussion",
   "metadata": {},
   "outputs": [],
   "source": [
    "from torch.utils.data import random_split, DataLoader\n",
    "data_loader = DataLoader(the_moral_story, batch_size=2, shuffle=False,num_workers=4)"
   ]
  },
  {
   "cell_type": "code",
   "execution_count": 46,
   "id": "continuous-organization",
   "metadata": {},
   "outputs": [
    {
     "name": "stderr",
     "output_type": "stream",
     "text": [
      "GPU available: True, used: True\n",
      "TPU available: False, using: 0 TPU cores\n"
     ]
    }
   ],
   "source": [
    "trainer = pl.Trainer(min_epochs = 1, max_epochs = 2, checkpoint_callback = False,gpus=1)"
   ]
  },
  {
   "cell_type": "code",
   "execution_count": 47,
   "id": "apparent-cisco",
   "metadata": {},
   "outputs": [
    {
     "name": "stderr",
     "output_type": "stream",
     "text": [
      "LOCAL_RANK: 0 - CUDA_VISIBLE_DEVICES: [0]\n",
      "\n",
      "  | Name  | Type                             | Params\n",
      "-----------------------------------------------------------\n",
      "0 | model | RobertaForSequenceClassification | 124 M \n",
      "-----------------------------------------------------------\n",
      "124 M     Trainable params\n",
      "0         Non-trainable params\n",
      "124 M     Total params\n",
      "498.589   Total estimated model params size (MB)\n"
     ]
    },
    {
     "data": {
      "application/vnd.jupyter.widget-view+json": {
       "model_id": "15289fc9be0643178a662544c96878b2",
       "version_major": 2,
       "version_minor": 0
      },
      "text/plain": [
       "HBox(children=(FloatProgress(value=1.0, bar_style='info', description='Training', layout=Layout(flex='2'), max…"
      ]
     },
     "metadata": {},
     "output_type": "display_data"
    },
    {
     "name": "stdout",
     "output_type": "stream",
     "text": [
      "KILL ME pleafewfwese\n",
      "tensor([[0.3440, 0.6560],\n",
      "        [0.3648, 0.6352],\n",
      "        [0.7292, 0.2708],\n",
      "        [0.7244, 0.2756],\n",
      "        [0.7275, 0.2725],\n",
      "        [0.7259, 0.2741],\n",
      "        [0.6547, 0.3453],\n",
      "        [0.5432, 0.4568],\n",
      "        [0.2999, 0.7001],\n",
      "        [0.2819, 0.7181],\n",
      "        [0.2768, 0.7232],\n",
      "        [0.2856, 0.7144],\n",
      "        [0.2888, 0.7112],\n",
      "        [0.2886, 0.7114],\n",
      "        [0.3957, 0.6043],\n",
      "        [0.4039, 0.5961],\n",
      "        [0.6336, 0.3664],\n",
      "        [0.6569, 0.3431],\n",
      "        [0.7240, 0.2760],\n",
      "        [0.7173, 0.2827],\n",
      "        [0.7134, 0.2866],\n",
      "        [0.6928, 0.3072],\n",
      "        [0.6877, 0.3123],\n",
      "        [0.7133, 0.2867],\n",
      "        [0.4286, 0.5714],\n",
      "        [0.4078, 0.5922],\n",
      "        [0.3355, 0.6645],\n",
      "        [0.2977, 0.7023]])\n",
      "tensor([1, 0, 1, 0, 1, 0, 1, 0, 1, 0, 1, 0, 1, 0, 1, 0, 1, 0, 1, 0, 1, 0, 1, 0,\n",
      "        1, 0, 1, 0])\n",
      "<class 'torch.Tensor'>\n",
      "<class 'torch.Tensor'>\n",
      "KILL ME pleafewfwese\n",
      "tensor([[0.2943, 0.7057],\n",
      "        [0.3219, 0.6781],\n",
      "        [0.4925, 0.5075],\n",
      "        [0.4737, 0.5263],\n",
      "        [0.4067, 0.5933],\n",
      "        [0.5451, 0.4549],\n",
      "        [0.4799, 0.5201],\n",
      "        [0.6052, 0.3948],\n",
      "        [0.5277, 0.4723],\n",
      "        [0.6217, 0.3783],\n",
      "        [0.6297, 0.3703],\n",
      "        [0.6479, 0.3521],\n",
      "        [0.5870, 0.4130],\n",
      "        [0.5857, 0.4143],\n",
      "        [0.3697, 0.6303],\n",
      "        [0.4347, 0.5653],\n",
      "        [0.4210, 0.5790],\n",
      "        [0.3463, 0.6537],\n",
      "        [0.3335, 0.6665],\n",
      "        [0.3227, 0.6773],\n",
      "        [0.5310, 0.4690],\n",
      "        [0.4996, 0.5004],\n",
      "        [0.5838, 0.4162],\n",
      "        [0.5463, 0.4537],\n",
      "        [0.6769, 0.3231],\n",
      "        [0.6478, 0.3522],\n",
      "        [0.5628, 0.4372],\n",
      "        [0.5942, 0.4058]])\n",
      "tensor([1, 0, 1, 0, 1, 0, 1, 0, 1, 0, 1, 0, 1, 0, 1, 0, 1, 0, 1, 0, 1, 0, 1, 0,\n",
      "        1, 0, 1, 0])\n",
      "<class 'torch.Tensor'>\n",
      "<class 'torch.Tensor'>\n",
      "\n"
     ]
    },
    {
     "data": {
      "text/plain": [
       "1"
      ]
     },
     "execution_count": 47,
     "metadata": {},
     "output_type": "execute_result"
    }
   ],
   "source": [
    "trainer.fit(model, data_loader)"
   ]
  },
  {
   "cell_type": "code",
   "execution_count": 14,
   "id": "therapeutic-ethiopia",
   "metadata": {},
   "outputs": [
    {
     "name": "stdout",
     "output_type": "stream",
     "text": [
      "Hi, Michael!\n"
     ]
    },
    {
     "data": {
      "text/plain": [
       "(tensor(0.5275, grad_fn=<NllLossBackward>),\n",
       " tensor([[-0.5396,  0.5161],\n",
       "         [-0.1993, -0.0767]], grad_fn=<AddmmBackward>))"
      ]
     },
     "execution_count": 14,
     "metadata": {},
     "output_type": "execute_result"
    }
   ],
   "source": [
    "model.forward(next(iter(data_loader)))"
   ]
  },
  {
   "cell_type": "code",
   "execution_count": null,
   "id": "ancient-preserve",
   "metadata": {},
   "outputs": [],
   "source": [
    "print(\"HELLO\")"
   ]
  },
  {
   "cell_type": "code",
   "execution_count": null,
   "id": "durable-performer",
   "metadata": {},
   "outputs": [],
   "source": []
  }
 ],
 "metadata": {
  "environment": {
   "name": "pytorch-gpu.1-7.m65",
   "type": "gcloud",
   "uri": "gcr.io/deeplearning-platform-release/pytorch-gpu.1-7:m65"
  },
  "kernelspec": {
   "display_name": "ms_venv2",
   "language": "python",
   "name": "ms_venv2"
  },
  "language_info": {
   "codemirror_mode": {
    "name": "ipython",
    "version": 3
   },
   "file_extension": ".py",
   "mimetype": "text/x-python",
   "name": "python",
   "nbconvert_exporter": "python",
   "pygments_lexer": "ipython3",
   "version": "3.7.3"
  }
 },
 "nbformat": 4,
 "nbformat_minor": 5
}
