{
 "cells": [
  {
   "cell_type": "code",
   "execution_count": 1,
   "id": "korean-posting",
   "metadata": {},
   "outputs": [],
   "source": [
    "from transformers import (RobertaConfig,\n",
    "                          RobertaForSequenceClassification,\n",
    "                          RobertaTokenizer,\n",
    "                          AdamW,\n",
    "                          get_linear_schedule_with_warmup)\n",
    "import torch\n",
    "import pytorch_lightning as pl\n",
    "from torch.optim import lr_scheduler\n",
    "from torch import nn\n",
    "import numpy as np"
   ]
  },
  {
   "cell_type": "code",
   "execution_count": 2,
   "id": "contrary-rachel",
   "metadata": {},
   "outputs": [
    {
     "name": "stderr",
     "output_type": "stream",
     "text": [
      "Some weights of the model checkpoint at roberta-base were not used when initializing RobertaForSequenceClassification: ['lm_head.bias', 'lm_head.dense.weight', 'lm_head.dense.bias', 'lm_head.layer_norm.weight', 'lm_head.layer_norm.bias', 'lm_head.decoder.weight']\n",
      "- This IS expected if you are initializing RobertaForSequenceClassification from the checkpoint of a model trained on another task or with another architecture (e.g. initializing a BertForSequenceClassification model from a BertForPretraining model).\n",
      "- This IS NOT expected if you are initializing RobertaForSequenceClassification from the checkpoint of a model that you expect to be exactly identical (initializing a BertForSequenceClassification model from a BertForSequenceClassification model).\n",
      "Some weights of RobertaForSequenceClassification were not initialized from the model checkpoint at roberta-base and are newly initialized: ['classifier.dense.weight', 'classifier.dense.bias', 'classifier.out_proj.weight', 'classifier.out_proj.bias']\n",
      "You should probably TRAIN this model on a down-stream task to be able to use it for predictions and inference.\n"
     ]
    }
   ],
   "source": [
    "roberta = RobertaForSequenceClassification.from_pretrained('roberta-base')"
   ]
  },
  {
   "cell_type": "code",
   "execution_count": 3,
   "id": "cosmetic-progressive",
   "metadata": {},
   "outputs": [
    {
     "data": {
      "text/plain": [
       "<module 'Refactored_Baseline' from '/Users/nissani/Desktop/moral_stories/Refactored_Baseline.py'>"
      ]
     },
     "execution_count": 3,
     "metadata": {},
     "output_type": "execute_result"
    }
   ],
   "source": [
    "import Refactored_Baseline\n",
    "import importlib\n",
    "importlib.reload(Refactored_Baseline)"
   ]
  },
  {
   "cell_type": "code",
   "execution_count": 4,
   "id": "worthy-crowd",
   "metadata": {},
   "outputs": [],
   "source": [
    "model = Refactored_Baseline.Toy(roberta, lr = .01)"
   ]
  },
  {
   "cell_type": "code",
   "execution_count": 5,
   "id": "racial-biodiversity",
   "metadata": {},
   "outputs": [
    {
     "name": "stdout",
     "output_type": "stream",
     "text": [
      "train\n",
      "OK\n"
     ]
    }
   ],
   "source": [
    "from test_load_data import *\n",
    "\n",
    "#moral_processor = utils.MoralStoriesProcessor()\n",
    "print(DatasetType.TRAIN.value)\n",
    "#the_dataset = MoralStoryDataset(\"/Users/garbar/Downloads/moral_stories_datasets/classification/action+context/lexical_bias\",\"train\")\n",
    "#training_data = moral_processor.get_train_examples(\"/Users/garbar/Downloads/moral_stories_datasets/classification/action+context/lexical_bias\")\n",
    "tokenizer = RobertaTokenizer.from_pretrained('roberta-base')\n",
    "path = \"/Users/nissani/Desktop/moral_stories_datasets/classification/action+context/lexical_bias\"\n",
    "datatype = DatasetType.TEST\n",
    "modeltype = ModelNames.ROBERTA\n",
    "tasktype = TaskTypes.ACTION_CONTEXT_CLS\n",
    "the_moral_story = MoralStoryClassifyDataset(path,dataset_type = DatasetType.TEST,tokenizer=tokenizer,model_name=modeltype,tasktype=tasktype)\n",
    "\n",
    "temp = (the_moral_story._process_data(the_moral_story._moral_story_data[0:10]))\n",
    "print(\"OK\")"
   ]
  },
  {
   "cell_type": "code",
   "execution_count": 6,
   "id": "dried-lighter",
   "metadata": {},
   "outputs": [],
   "source": [
    "the_moral_story.process_data(start_index = 0, stop_index = 28)"
   ]
  },
  {
   "cell_type": "code",
   "execution_count": 7,
   "id": "still-enhancement",
   "metadata": {},
   "outputs": [],
   "source": [
    "some_value = next(iter(the_moral_story))"
   ]
  },
  {
   "cell_type": "code",
   "execution_count": 8,
   "id": "brief-branch",
   "metadata": {},
   "outputs": [
    {
     "data": {
      "text/plain": [
       "72"
      ]
     },
     "execution_count": 8,
     "metadata": {},
     "output_type": "execute_result"
    }
   ],
   "source": [
    "len(some_value['attention_mask'])"
   ]
  },
  {
   "cell_type": "code",
   "execution_count": 9,
   "id": "subtle-former",
   "metadata": {},
   "outputs": [
    {
     "name": "stdout",
     "output_type": "stream",
     "text": [
      "[3, 243, 18, 1099, 7, 28, 350, 7337, 8, 3874, 82, 62, 4, 34057, 13356, 62, 182, 419, 42, 662, 4, 894, 1072, 7, 146, 103, 7080, 4, 3, 3, 34057, 117, 354, 5846, 14225, 29, 10, 319, 9, 26520, 8, 31592, 77, 442, 39, 7080, 4, 3, 0, 0, 0, 0, 0, 0, 0, 0, 0, 0, 0, 0, 0, 0, 0, 0, 0, 0, 0, 0, 0, 0, 0, 0]\n"
     ]
    }
   ],
   "source": [
    "print(the_moral_story._tokenized_data[1].input_ids)"
   ]
  },
  {
   "cell_type": "code",
   "execution_count": 10,
   "id": "productive-valley",
   "metadata": {},
   "outputs": [
    {
     "name": "stdout",
     "output_type": "stream",
     "text": [
      "tensor(3)\n"
     ]
    }
   ],
   "source": [
    "print(some_value['input_ids'][0])"
   ]
  },
  {
   "cell_type": "code",
   "execution_count": 11,
   "id": "racial-contract",
   "metadata": {},
   "outputs": [],
   "source": [
    "from torch.utils.data import random_split, DataLoader\n",
    "data_loader = DataLoader(the_moral_story, batch_size=2, shuffle=False,num_workers=4)"
   ]
  },
  {
   "cell_type": "code",
   "execution_count": 12,
   "id": "velvet-major",
   "metadata": {},
   "outputs": [
    {
     "name": "stderr",
     "output_type": "stream",
     "text": [
      "GPU available: False, used: False\n",
      "TPU available: False, using: 0 TPU cores\n"
     ]
    }
   ],
   "source": [
    "trainer = pl.Trainer(min_epochs = 1, max_epochs = 2)"
   ]
  },
  {
   "cell_type": "code",
   "execution_count": 13,
   "id": "closed-blogger",
   "metadata": {},
   "outputs": [
    {
     "name": "stderr",
     "output_type": "stream",
     "text": [
      "\n",
      "  | Name  | Type                             | Params\n",
      "-----------------------------------------------------------\n",
      "0 | model | RobertaForSequenceClassification | 125 M \n",
      "-----------------------------------------------------------\n",
      "125 M     Trainable params\n",
      "0         Non-trainable params\n",
      "125 M     Total params\n",
      "500.951   Total estimated model params size (MB)\n"
     ]
    },
    {
     "data": {
      "application/vnd.jupyter.widget-view+json": {
       "model_id": "620a32e2b34c460ba321e552072c55aa",
       "version_major": 2,
       "version_minor": 0
      },
      "text/plain": [
       "HBox(children=(FloatProgress(value=1.0, bar_style='info', description='Training', layout=Layout(flex='2'), max…"
      ]
     },
     "metadata": {},
     "output_type": "display_data"
    },
    {
     "name": "stdout",
     "output_type": "stream",
     "text": [
      "Hi, Michael!\n",
      "Hi, Michael!\n",
      "Hi, Michael!\n",
      "Hi, Michael!\n",
      "Hi, Michael!\n",
      "Hi, Michael!\n",
      "Hi, Michael!\n",
      "Hi, Michael!\n",
      "Hi, Michael!\n",
      "Hi, Michael!\n",
      "Hi, Michael!\n",
      "Hi, Michael!\n",
      "Hi, Michael!\n",
      "Hi, Michael!\n",
      "Hi, Michael!\n",
      "Hi, Michael!\n",
      "Hi, Michael!\n",
      "Hi, Michael!\n",
      "Hi, Michael!\n",
      "Hi, Michael!\n",
      "Hi, Michael!\n",
      "Hi, Michael!\n",
      "Hi, Michael!\n",
      "Hi, Michael!\n",
      "Hi, Michael!\n",
      "Hi, Michael!\n",
      "Hi, Michael!\n",
      "Hi, Michael!\n",
      "\n"
     ]
    },
    {
     "data": {
      "text/plain": [
       "1"
      ]
     },
     "execution_count": 13,
     "metadata": {},
     "output_type": "execute_result"
    }
   ],
   "source": [
    "trainer.fit(model, data_loader)"
   ]
  },
  {
   "cell_type": "code",
   "execution_count": 14,
   "id": "known-trailer",
   "metadata": {},
   "outputs": [
    {
     "name": "stdout",
     "output_type": "stream",
     "text": [
      "Hi, Michael!\n"
     ]
    },
    {
     "data": {
      "text/plain": [
       "(tensor(0.5275, grad_fn=<NllLossBackward>),\n",
       " tensor([[-0.5396,  0.5161],\n",
       "         [-0.1993, -0.0767]], grad_fn=<AddmmBackward>))"
      ]
     },
     "execution_count": 14,
     "metadata": {},
     "output_type": "execute_result"
    }
   ],
   "source": [
    "model.forward(next(iter(data_loader)))"
   ]
  },
  {
   "cell_type": "code",
   "execution_count": null,
   "id": "unique-subcommittee",
   "metadata": {},
   "outputs": [],
   "source": []
  }
 ],
 "metadata": {
  "kernelspec": {
   "display_name": "ms_venv2",
   "language": "python",
   "name": "ms_venv2"
  },
  "language_info": {
   "codemirror_mode": {
    "name": "ipython",
    "version": 3
   },
   "file_extension": ".py",
   "mimetype": "text/x-python",
   "name": "python",
   "nbconvert_exporter": "python",
   "pygments_lexer": "ipython3",
   "version": "3.7.3"
  }
 },
 "nbformat": 4,
 "nbformat_minor": 5
}